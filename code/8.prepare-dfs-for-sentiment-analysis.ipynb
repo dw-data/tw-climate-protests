{
 "cells": [
  {
   "cell_type": "code",
   "execution_count": null,
   "id": "71b95b0e",
   "metadata": {},
   "outputs": [],
   "source": [
    "'''\n",
    "This script takes the files with the replies\n",
    "to the high engagement tweets about environmental\n",
    "protests, which were saved in JSON files, and\n",
    "puts them into a dataframe.\n",
    "'''"
   ]
  },
  {
   "cell_type": "code",
   "execution_count": null,
   "id": "acf23e3d",
   "metadata": {},
   "outputs": [],
   "source": [
    "import glob\n",
    "import json\n",
    "import pandas as pd"
   ]
  },
  {
   "cell_type": "code",
   "execution_count": null,
   "id": "5b628c48",
   "metadata": {},
   "outputs": [],
   "source": [
    "def main():\n",
    "    \n",
    "\n",
    "    #####################\n",
    "    ### Top 1 percent ###\n",
    "    #####################\n",
    "    \n",
    "    # Reads tweet files\n",
    "    fpaths = glob.glob(\"../../output/mvp/6.top_n_replies/*.json\")\n",
    "    \n",
    "    # Adds tweets to a list\n",
    "    dataset = []\n",
    "    for fpath in fpaths:\n",
    "\n",
    "        with open(fpath, 'r') as f:\n",
    "            data = json.load(f)\n",
    "            dataset.extend(data)\n",
    "            \n",
    "    # Turns into dataframe\n",
    "    df = pd.DataFrame(dataset)\n",
    "    \n",
    "    # Saves results\n",
    "    df.to_csv(\"../../output/mvp/8.dfs_for_sentiment_analisys/protest_tweets/protest-tweets.csv\", sep=\"|\")\n",
    "    \n",
    "    ############################\n",
    "    ### Random sample of 100 ###\n",
    "    ############################\n",
    "    \n",
    "    # Reads tweet files\n",
    "    fpaths = glob.glob(\"../../output/mvp/7.random_sample/*.json\")\n",
    "    \n",
    "    # Adds tweets to a list\n",
    "    dataset = []\n",
    "    for fpath in fpaths:\n",
    "\n",
    "        with open(fpath, 'r') as f:\n",
    "            data = json.load(f)\n",
    "            dataset.extend(data)\n",
    "            \n",
    "    # Turns into dataframe\n",
    "    df = pd.DataFrame(dataset)\n",
    "    \n",
    "    # Saves results\n",
    "    df.to_csv(\"../../output/mvp/8.dfs-for-sentiment-analysis/random_sample/random-sample.csv\", sep=\"|\")"
   ]
  },
  {
   "cell_type": "code",
   "execution_count": null,
   "id": "882abd4f",
   "metadata": {},
   "outputs": [],
   "source": [
    "if __name__ == \"__main__\":\n",
    "    main()"
   ]
  }
 ],
 "metadata": {
  "kernelspec": {
   "display_name": "Python 3 (ipykernel)",
   "language": "python",
   "name": "python3"
  },
  "language_info": {
   "codemirror_mode": {
    "name": "ipython",
    "version": 3
   },
   "file_extension": ".py",
   "mimetype": "text/x-python",
   "name": "python",
   "nbconvert_exporter": "python",
   "pygments_lexer": "ipython3",
   "version": "3.10.9"
  }
 },
 "nbformat": 4,
 "nbformat_minor": 5
}

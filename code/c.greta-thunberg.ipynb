{
 "cells": [
  {
   "cell_type": "code",
   "execution_count": 1,
   "id": "3a029119",
   "metadata": {},
   "outputs": [],
   "source": [
    "# Let's compute how many of the tweets mention Gret\n",
    "# in general and at top 25, 10% and 1% engagement"
   ]
  },
  {
   "cell_type": "code",
   "execution_count": 9,
   "id": "fab59b54",
   "metadata": {},
   "outputs": [],
   "source": [
    "import pandas as pd\n",
    "import seaborn as sns"
   ]
  },
  {
   "cell_type": "code",
   "execution_count": 3,
   "id": "ba3896d0",
   "metadata": {},
   "outputs": [],
   "source": [
    "# Reads data\n",
    "df = pd.read_csv(\"../../output/mvp/5.merged_dataframes/keywords.csv\", sep=\"|\")"
   ]
  },
  {
   "cell_type": "code",
   "execution_count": 4,
   "id": "defd614f",
   "metadata": {},
   "outputs": [],
   "source": [
    "# Removes false positives\n",
    "df = df[df.classification != 'fp'].reset_index()"
   ]
  },
  {
   "cell_type": "code",
   "execution_count": 5,
   "id": "859f8148",
   "metadata": {},
   "outputs": [
    {
     "name": "stdout",
     "output_type": "stream",
     "text": [
      "Top 100% tweets\n"
     ]
    },
    {
     "data": {
      "text/plain": [
       "False    0.697543\n",
       "True     0.302457\n",
       "Name: raw_content, dtype: float64"
      ]
     },
     "metadata": {},
     "output_type": "display_data"
    },
    {
     "name": "stdout",
     "output_type": "stream",
     "text": [
      "Top 25% tweets\n"
     ]
    },
    {
     "data": {
      "text/plain": [
       "False    0.532505\n",
       "True     0.467495\n",
       "Name: raw_content, dtype: float64"
      ]
     },
     "metadata": {},
     "output_type": "display_data"
    },
    {
     "name": "stdout",
     "output_type": "stream",
     "text": [
      "Top 10% tweets\n"
     ]
    },
    {
     "data": {
      "text/plain": [
       "True     0.586164\n",
       "False    0.413836\n",
       "Name: raw_content, dtype: float64"
      ]
     },
     "metadata": {},
     "output_type": "display_data"
    },
    {
     "name": "stdout",
     "output_type": "stream",
     "text": [
      "Top 1% tweets\n"
     ]
    },
    {
     "data": {
      "text/plain": [
       "True     0.668605\n",
       "False    0.331395\n",
       "Name: raw_content, dtype: float64"
      ]
     },
     "metadata": {},
     "output_type": "display_data"
    }
   ],
   "source": [
    "# Share of tweets in each percentile\n",
    "for percentile in [100, 25, 10, 1]:\n",
    "    subset = df[df.percentile_for_total_engagement <= percentile]\n",
    "    print(f\"Top {percentile}% tweets\")\n",
    "    display(subset.raw_content.str.lower().str.contains(\"greta|thunberg\").value_counts(normalize=True))"
   ]
  }
 ],
 "metadata": {
  "kernelspec": {
   "display_name": "Python 3 (ipykernel)",
   "language": "python",
   "name": "python3"
  },
  "language_info": {
   "codemirror_mode": {
    "name": "ipython",
    "version": 3
   },
   "file_extension": ".py",
   "mimetype": "text/x-python",
   "name": "python",
   "nbconvert_exporter": "python",
   "pygments_lexer": "ipython3",
   "version": "3.10.9"
  }
 },
 "nbformat": 4,
 "nbformat_minor": 5
}

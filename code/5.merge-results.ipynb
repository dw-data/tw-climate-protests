{
 "cells": [
  {
   "cell_type": "code",
   "execution_count": 1,
   "id": "a44ac8d1",
   "metadata": {},
   "outputs": [
    {
     "data": {
      "text/plain": [
       "'\\nThis scripts merges the results of the classification\\ndone manually with the original data collection.\\n'"
      ]
     },
     "execution_count": 1,
     "metadata": {},
     "output_type": "execute_result"
    }
   ],
   "source": [
    "'''\n",
    "This scripts merges the results of the classification\n",
    "done manually with the original data collection.\n",
    "'''"
   ]
  },
  {
   "cell_type": "code",
   "execution_count": 2,
   "id": "20f38290",
   "metadata": {},
   "outputs": [],
   "source": [
    "import glob\n",
    "import json\n",
    "from os.path import basename\n",
    "import pandas as pd"
   ]
  },
  {
   "cell_type": "code",
   "execution_count": 3,
   "id": "3956a23a",
   "metadata": {},
   "outputs": [],
   "source": [
    "def load_classification_data(path: str):\n",
    "    \"\"\"\n",
    "    Load JSON files from the specified path and return a dictionary containing the data.\n",
    "\n",
    "    Args:\n",
    "    - path (str): The path where the JSON files are located.\n",
    "\n",
    "    Returns:\n",
    "    - A pandas DataFrame containing the loaded JSON data, with row numbers as the index and data as columns.\n",
    "\n",
    "    Example:\n",
    "    >>> data = load_classification_data(\"../../output/mvp/classification-2023-08-23/\")\n",
    "    \n",
    "        classification\n",
    "    0   fp\n",
    "    1   d\n",
    "    2   nd\n",
    "    3   nd\n",
    "    4   d\n",
    "     \n",
    "\n",
    "    DISCLAIMER: The documentation for this function was written by ChatGPT.\n",
    "    \"\"\"\n",
    "    # Initialize an empty dictionary to store the loaded data\n",
    "    data = {}\n",
    "\n",
    "    # Get a list of all JSON files in the specified path\n",
    "    files = glob.glob(path + \"/*.json\")\n",
    "\n",
    "    # Iterate over each file\n",
    "    for file in files:\n",
    "        # Extract the row number from the file name\n",
    "        row_no = int(file.split(\"/\")[-1][:-5])\n",
    "\n",
    "        # Open the file and load the JSON data\n",
    "        with open(file, \"r\") as f:\n",
    "            d = json.load(f)\n",
    "\n",
    "        # Add the loaded data to the dictionary with the row number as the key\n",
    "        data[row_no] = d\n",
    "\n",
    "    return pd.DataFrame.from_dict(data, orient='index')\n"
   ]
  },
  {
   "cell_type": "code",
   "execution_count": 6,
   "id": "eca0e63e",
   "metadata": {},
   "outputs": [],
   "source": [
    "def main():\n",
    "    # Read CSV\n",
    "    df = pd.read_csv(\"../../output/mvp/3.tweets_with_keyword_detection/tweets-with-keywords.csv\", sep=\"|\")\n",
    "    \n",
    "    # Save a subset of the df without the keywords\n",
    "    df_no_keywords = df[~df.has_both_keywords]\n",
    "    \n",
    "    # Keeps only those with the keywords\n",
    "    df_keywords = df[df.has_both_keywords]\n",
    "\n",
    "    # Loads the classification data as a separate df\n",
    "    classification_df = load_classification_data(\"../../output/mvp/4.manual_classification//\")\n",
    "    \n",
    "    # Joins the classification\n",
    "    df_keywords = df_keywords.join(classification_df)\n",
    "    \n",
    "    # Saves\n",
    "    df_no_keywords.to_csv(\"../../output/mvp/5.merged_dataframes/no-keywords.csv\", index=False, sep=\"|\")\n",
    "    df_keywords.to_csv(\"../../output/mvp/5.merged_dataframes/keywords.csv\", index=False, sep=\"|\")\n"
   ]
  },
  {
   "cell_type": "code",
   "execution_count": 7,
   "id": "471b4494",
   "metadata": {},
   "outputs": [],
   "source": [
    "if __name__ == \"__main__\":\n",
    "    df = main()"
   ]
  }
 ],
 "metadata": {
  "kernelspec": {
   "display_name": "Python 3 (ipykernel)",
   "language": "python",
   "name": "python3"
  },
  "language_info": {
   "codemirror_mode": {
    "name": "ipython",
    "version": 3
   },
   "file_extension": ".py",
   "mimetype": "text/x-python",
   "name": "python",
   "nbconvert_exporter": "python",
   "pygments_lexer": "ipython3",
   "version": "3.10.9"
  }
 },
 "nbformat": 4,
 "nbformat_minor": 5
}

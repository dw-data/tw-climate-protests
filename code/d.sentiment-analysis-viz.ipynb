{
 "cells": [
  {
   "cell_type": "code",
   "execution_count": 22,
   "id": "e03d67d2",
   "metadata": {},
   "outputs": [],
   "source": [
    "# Reads the files with the results of the sentiment analysis and performs a basic data investigation"
   ]
  },
  {
   "cell_type": "code",
   "execution_count": 23,
   "id": "d1e8ad48",
   "metadata": {},
   "outputs": [],
   "source": [
    "import numpy as np\n",
    "import pandas as pd\n",
    "\n",
    "import matplotlib as mpl\n",
    "mpl.rcParams['svg.fonttype'] = 'none'\n",
    "\n",
    "import seaborn as sns\n",
    "import matplotlib.pyplot as plt\n",
    "from matplotlib.ticker import FuncFormatter\n"
   ]
  },
  {
   "cell_type": "markdown",
   "id": "8edade46",
   "metadata": {},
   "source": [
    "### Data preparation"
   ]
  },
  {
   "cell_type": "code",
   "execution_count": 24,
   "id": "b60ecf78",
   "metadata": {},
   "outputs": [],
   "source": [
    "# There was an error in Colab which made some of the reply ids get saved as scientific notation, preventing merges\n",
    "# with the original tweets. However, we can join those with the original dataframe of replies, made before the\n",
    "# language model processing. It will give us the correct ids we need to combine them with the original tweets.\n",
    "buggy_df = pd.read_csv(\"../../output/mvp/13.sentiment_analysis_dfs/protests.csv\")\n",
    "nice_df = pd.read_csv(\"../../output/mvp/8.dfs_for_sentiment_analysis/protest_tweets/protest-tweets.csv\", sep=\"|\",\n",
    "                     # We need to read the ids for this one as str, so we can join them back later\n",
    "                      dtype={\n",
    "                          'tweet_id': str,\n",
    "                          'conversation_id': str,\n",
    "                          'in_reply_to': str\n",
    "                      })"
   ]
  },
  {
   "cell_type": "code",
   "execution_count": 25,
   "id": "25556435",
   "metadata": {},
   "outputs": [],
   "source": [
    "# Notice that 'nice_df' will lose some entries on the merge because we filtered out non-Enlgish tweets.\n",
    "# We will end up wit the 53073 tweets for which there is classification data.\n",
    "df = buggy_df.merge(nice_df, on='url')"
   ]
  },
  {
   "cell_type": "code",
   "execution_count": 26,
   "id": "2f7fe6a0",
   "metadata": {},
   "outputs": [],
   "source": [
    "# Now let's get rid of the redundant columns. From the buggy df, we want only the classification,\n",
    "# which won't have any suffix. \n",
    "df = df.drop(columns=[column for column in df.columns if '_x' in column])"
   ]
  },
  {
   "cell_type": "code",
   "execution_count": 27,
   "id": "fa40751b",
   "metadata": {},
   "outputs": [],
   "source": [
    "# And then we can rename the other columns to take away the _Y\n",
    "df = df.rename(columns={\n",
    "    label: label[:-2] for label in df.columns if \"_y\" in label\n",
    "})"
   ]
  },
  {
   "cell_type": "code",
   "execution_count": 28,
   "id": "89467337",
   "metadata": {},
   "outputs": [],
   "source": [
    "# Now we can remove all the unnamed and level_0 stuff\n",
    "df = df.drop(columns=[column for column in df.columns if 'Unnamed' in column or 'level_0' in column or 'index' in column])"
   ]
  },
  {
   "cell_type": "code",
   "execution_count": 29,
   "id": "03623273",
   "metadata": {},
   "outputs": [],
   "source": [
    "# Now we can finally merge them back with the original tweet data.\n",
    "# Original tweet data\n",
    "tweets = pd.read_csv(\"../../output/mvp/5.merged_dataframes/keywords.csv\", sep=\"|\", dtype={\n",
    "    \"conversation_id\": str,\n",
    "    \"tweet_id\": str,\n",
    "})\n",
    "\n",
    "# Keep only the top 1%\n",
    "tweets = tweets[tweets.percentile_for_total_engagement <= 1]"
   ]
  },
  {
   "cell_type": "code",
   "execution_count": 30,
   "id": "d6729362",
   "metadata": {},
   "outputs": [],
   "source": [
    "# Here is the entirety of the classified data for climate protests.\n",
    "protest_tweets = df.merge(tweets, left_on='in_reply_to', right_on='conversation_id', how='left')"
   ]
  },
  {
   "cell_type": "code",
   "execution_count": 31,
   "id": "b128cfe2",
   "metadata": {},
   "outputs": [],
   "source": [
    "# Remove the false positives\n",
    "protest_tweets = protest_tweets[protest_tweets.classification != 'fp']"
   ]
  },
  {
   "cell_type": "code",
   "execution_count": 32,
   "id": "930d26d7",
   "metadata": {},
   "outputs": [],
   "source": [
    "# But Twitter, in general, is also very negative, so we wan't to have a control.\n",
    "# Let's perform the same analysis. This time we don't need to link back to the original files,\n",
    "# since this wa made with the replies from \n",
    "# a random sample of all tweets.\n",
    "control = pd.read_csv(\"../../output/mvp/13.sentiment_analysis_dfs/control.csv\")\n",
    "no_keywords = pd.read_csv(\"../../output/mvp/5.merged_dataframes/no-keywords.csv\", sep=\"|\")\n",
    "control = control.merge(no_keywords, left_on='in_reply_to', right_on='tweet_id')\n",
    "control['datetime'] = pd.to_datetime(control.datetime)\n",
    "control = control.set_index('datetime')"
   ]
  },
  {
   "cell_type": "markdown",
   "id": "cecc8f32",
   "metadata": {},
   "source": [
    "#### Analysis"
   ]
  },
  {
   "cell_type": "markdown",
   "id": "91575ea8",
   "metadata": {},
   "source": [
    "Is there a significant difference between the total negativity for disruptive and non-disruptive protests?"
   ]
  },
  {
   "cell_type": "code",
   "execution_count": 33,
   "id": "bbcb1b93",
   "metadata": {},
   "outputs": [
    {
     "data": {
      "text/plain": [
       "NEGATIVE    0.704697\n",
       "POSITIVE    0.295303\n",
       "Name: sentiment_label, dtype: float64"
      ]
     },
     "execution_count": 33,
     "metadata": {},
     "output_type": "execute_result"
    }
   ],
   "source": [
    "# All climate tweets\n",
    "protest_tweets.sentiment_label.value_counts(normalize=True)"
   ]
  },
  {
   "cell_type": "code",
   "execution_count": 34,
   "id": "ad99076b",
   "metadata": {},
   "outputs": [
    {
     "data": {
      "text/plain": [
       "classification  sentiment_label\n",
       "d               NEGATIVE           0.726428\n",
       "                POSITIVE           0.273572\n",
       "nd              NEGATIVE           0.698069\n",
       "                POSITIVE           0.301931\n",
       "Name: sentiment_label, dtype: float64"
      ]
     },
     "execution_count": 34,
     "metadata": {},
     "output_type": "execute_result"
    }
   ],
   "source": [
    "# Apparently there's no significant difference between the groups. It's all really negative.\n",
    "protest_tweets.groupby(\"classification\").sentiment_label.value_counts(normalize=True)"
   ]
  },
  {
   "cell_type": "code",
   "execution_count": 35,
   "id": "8198f9f0",
   "metadata": {},
   "outputs": [
    {
     "data": {
      "text/plain": [
       "NEGATIVE    0.72431\n",
       "POSITIVE    0.27569\n",
       "Name: sentiment_label, dtype: float64"
      ]
     },
     "execution_count": 35,
     "metadata": {},
     "output_type": "execute_result"
    }
   ],
   "source": [
    "# Control group also looks similar.\n",
    "control.sentiment_label.value_counts(normalize=True)"
   ]
  },
  {
   "cell_type": "markdown",
   "id": "a43f3ece",
   "metadata": {},
   "source": [
    "Looking at specific subgroups also doesn't change the picture a lot."
   ]
  },
  {
   "cell_type": "code",
   "execution_count": 36,
   "id": "d6e8d1a6",
   "metadata": {},
   "outputs": [
    {
     "data": {
      "text/plain": [
       "NEGATIVE    0.696345\n",
       "POSITIVE    0.303655\n",
       "Name: sentiment_label, dtype: float64"
      ]
     },
     "execution_count": 36,
     "metadata": {},
     "output_type": "execute_result"
    }
   ],
   "source": [
    "# Replies to tweets that mention greta\n",
    "protest_tweets[protest_tweets.raw_content_y.str.lower().str.contains(\"greta|thunberg\")]\\\n",
    "    .sentiment_label.value_counts(normalize=True)\n",
    "\n"
   ]
  },
  {
   "cell_type": "code",
   "execution_count": 37,
   "id": "ae610b50",
   "metadata": {},
   "outputs": [
    {
     "data": {
      "text/plain": [
       "NEGATIVE    0.723638\n",
       "POSITIVE    0.276362\n",
       "Name: sentiment_label, dtype: float64"
      ]
     },
     "execution_count": 37,
     "metadata": {},
     "output_type": "execute_result"
    }
   ],
   "source": [
    "# Replies to tweets that don't mention greta\n",
    "protest_tweets[~protest_tweets.raw_content_y.str.lower().str.contains(\"greta|thunberg\")]\\\n",
    "    .sentiment_label.value_counts(normalize=True)\n"
   ]
  },
  {
   "cell_type": "code",
   "execution_count": 38,
   "id": "04858c3d",
   "metadata": {},
   "outputs": [
    {
     "data": {
      "text/plain": [
       "NEGATIVE    0.780622\n",
       "POSITIVE    0.219378\n",
       "Name: sentiment_label, dtype: float64"
      ]
     },
     "execution_count": 38,
     "metadata": {},
     "output_type": "execute_result"
    }
   ],
   "source": [
    "# Replies to tweets that mention van gogh – seems higher!\n",
    "protest_tweets[protest_tweets.raw_content_y.str.lower().str.contains(\"van gogh\")]\\\n",
    "   .sentiment_label.value_counts(normalize=True)"
   ]
  },
  {
   "cell_type": "code",
   "execution_count": 39,
   "id": "dbc1b36f",
   "metadata": {},
   "outputs": [
    {
     "data": {
      "text/plain": [
       "https://twitter.com/AJEnglish/status/1580906271452151809    284\n",
       "https://twitter.com/Reuters/status/1580954080729522179      225\n",
       "https://twitter.com/Telegraph/status/1621786133716926465     38\n",
       "Name: url_y, dtype: int64"
      ]
     },
     "execution_count": 39,
     "metadata": {},
     "output_type": "execute_result"
    }
   ],
   "source": [
    "# They are replies to the three tweets about the Sunflowers painting.\n",
    "protest_tweets[protest_tweets.raw_content_y.str.lower().str.contains(\"van gogh\")].url_y.value_counts()"
   ]
  },
  {
   "cell_type": "code",
   "execution_count": 40,
   "id": "653f15c0",
   "metadata": {},
   "outputs": [
    {
     "data": {
      "text/plain": [
       "https://twitter.com/AJEnglish/status/1580906271452151809    284\n",
       "https://twitter.com/Reuters/status/1580954080729522179      225\n",
       "https://twitter.com/Telegraph/status/1621786133716926465     38\n",
       "Name: url_y, dtype: int64"
      ]
     },
     "execution_count": 40,
     "metadata": {},
     "output_type": "execute_result"
    }
   ],
   "source": [
    "# They are replies to the three tweets about the Sunflowers painting.\n",
    "protest_tweets[protest_tweets.raw_content_y.str.lower().str.contains(\"van gogh|museum\")].url_y.value_counts()"
   ]
  },
  {
   "cell_type": "code",
   "execution_count": 41,
   "id": "363daf01",
   "metadata": {},
   "outputs": [
    {
     "data": {
      "text/plain": [
       "POSITIVE    0.508772\n",
       "NEGATIVE    0.491228\n",
       "Name: sentiment_label, dtype: float64"
      ]
     },
     "execution_count": 41,
     "metadata": {},
     "output_type": "execute_result"
    }
   ],
   "source": [
    "# Replies to tweets that mention extinction rebellion – oh that's interesting, why is it that good?\n",
    "protest_tweets[protest_tweets.raw_content_y.str.lower().str.contains(\"extinction rebellion\")]\\\n",
    "   .sentiment_label.value_counts(normalize=True)"
   ]
  },
  {
   "cell_type": "code",
   "execution_count": 42,
   "id": "3ce1ea9f",
   "metadata": {},
   "outputs": [
    {
     "data": {
      "text/plain": [
       "https://twitter.com/guardian/status/1184548304341872641    57\n",
       "Name: url_y, dtype: int64"
      ]
     },
     "execution_count": 42,
     "metadata": {},
     "output_type": "execute_result"
    }
   ],
   "source": [
    "# Well, replies to one single tweet that talks about a journalist beinga arrested.\n",
    "# People are happy with the arrest, it seems.\n",
    "protest_tweets[protest_tweets.raw_content_y.str.lower().str.contains(\"extinction rebellion\")].url_y.value_counts()"
   ]
  },
  {
   "cell_type": "markdown",
   "id": "e9da0717",
   "metadata": {},
   "source": [
    "As a final try, let's see which original tweets drove the most positive and negative responses."
   ]
  },
  {
   "cell_type": "code",
   "execution_count": null,
   "id": "6c25f8f9",
   "metadata": {},
   "outputs": [],
   "source": [
    "counts = protest_tweets.groupby([\"url_y\"]).sentiment_label.value_counts(normalize=True)\n",
    "counts = counts[:, 'NEGATIVE']\n",
    "counts = counts.reset_index().merge(tweets, left_on='url_y', right_on='url')\n",
    "counts = counts.rename(columns={'sentiment_label': 'negative_replies'})"
   ]
  },
  {
   "cell_type": "code",
   "execution_count": null,
   "id": "79a002ab",
   "metadata": {},
   "outputs": [],
   "source": [
    "control_counts = control.groupby([\"url_y\"]).sentiment_label.value_counts(normalize=True)\n",
    "control_counts = control_counts[:, 'NEGATIVE']\n",
    "control_counts = control_counts.reset_index()\n",
    "control_counts = control_counts.rename(columns={'sentiment_label': 'negative_replies'})\n",
    "control_counts[\"classification\"] = \"control\""
   ]
  },
  {
   "cell_type": "markdown",
   "id": "ec482266",
   "metadata": {},
   "source": [
    "#### Dataviz"
   ]
  },
  {
   "cell_type": "code",
   "execution_count": null,
   "id": "8b9ed1a4",
   "metadata": {},
   "outputs": [],
   "source": [
    "# Initialize the matplotlib figure\n",
    "dpi = 80\n",
    "fig_width = 320 / dpi\n",
    "fig_height = 380 / dpi\n",
    "fig, ax = plt.subplots(figsize=(fig_width, fig_height), dpi=dpi)\n",
    "\n",
    "palette = [\"#96be00\", \"#eb6e14\", \"#00a6ff\"]\n",
    "\n",
    "median_d = data[data.classification=='d'].negative_replies.median()\n",
    "median_nd = data[data.classification=='nd'].negative_replies.median()\n",
    "median_control = data[data.classification=='control'].negative_replies.median()\n",
    "\n",
    "sns.swarmplot(data, x='negative_replies', y='classification', hue='classification', legend=False, palette=palette, alpha=.7)\n",
    "\n",
    "ax.axvline(median_control, color=palette[0], linestyle='--', label=f'Control median')\n",
    "ax.axvline(median_d, color=palette[1], linestyle='--', label=f'Disruptive median')\n",
    "ax.axvline(median_nd, color=palette[2], linestyle='--', label=f'Non-disruptive median')\n",
    "    \n",
    "# Remove the spines for a cleaner look\n",
    "sns.despine(left=True, bottom=True)\n",
    "\n",
    "# Define a function to format the ticks as percentages\n",
    "def to_percent(x, _):\n",
    "    return f\"{100* x:.0f}%\"\n",
    "\n",
    "# Set the x-axis ticks to display percentages\n",
    "ax.xaxis.set_major_formatter(FuncFormatter(to_percent))\n",
    "\n",
    "# Set tick locations and labels for 0% and 100%\n",
    "ax.set_xticks([0, .2, .4, .6, .8, 1])\n",
    "\n",
    "# Background color\n",
    "fig.set_facecolor('#f1f3f5')\n",
    "ax.set_facecolor('#f1f3f5')\n",
    "\n",
    "# Saves\n",
    "plt.savefig(\"../../ai/swarmplot-sentiment.svg\", format='svg', dpi=300, bbox_inches='tight', facecolor='#f1f3f5')\n",
    "\n",
    "# Show the plot\n",
    "plt.show()"
   ]
  },
  {
   "cell_type": "code",
   "execution_count": null,
   "id": "74dea3c6",
   "metadata": {},
   "outputs": [],
   "source": [
    "### What are the median values?\n",
    "print(\"Not climate\", median_control)\n",
    "print(\"Disruptive\", median_d)\n",
    "print(\"Non-disruptive\", median_nd)\n",
    "print(\"Both kinds of climate protest\", data[data.classification.isin([\"d\", \"nd\"])].negative_replies.median())"
   ]
  },
  {
   "cell_type": "code",
   "execution_count": null,
   "id": "576eb9b4",
   "metadata": {},
   "outputs": [],
   "source": [
    "# A example tweet for each value\n",
    "for index, row in data[(data.negative_replies.round(2).mul(100).isin(range(66, 68)))\n",
    "                      & (data.classification=='nd')].iterrows():\n",
    "    print(row.url_y)"
   ]
  },
  {
   "cell_type": "markdown",
   "id": "79f85dee",
   "metadata": {},
   "source": [
    "#### Finding examples"
   ]
  },
  {
   "cell_type": "code",
   "execution_count": null,
   "id": "1574ab4c",
   "metadata": {},
   "outputs": [],
   "source": [
    "# Highest negativity in climate protests\n",
    "counts.sort_values(by='negative_replies', ascending=False)"
   ]
  },
  {
   "cell_type": "code",
   "execution_count": null,
   "id": "df78d0d5",
   "metadata": {},
   "outputs": [],
   "source": [
    "# Lowest negativity in climate protests\n",
    "counts.sort_values(by='negative_replies', ascending=True)"
   ]
  },
  {
   "cell_type": "code",
   "execution_count": null,
   "id": "e77128a7",
   "metadata": {},
   "outputs": [],
   "source": []
  }
 ],
 "metadata": {
  "kernelspec": {
   "display_name": "Python 3 (ipykernel)",
   "language": "python",
   "name": "python3"
  },
  "language_info": {
   "codemirror_mode": {
    "name": "ipython",
    "version": 3
   },
   "file_extension": ".py",
   "mimetype": "text/x-python",
   "name": "python",
   "nbconvert_exporter": "python",
   "pygments_lexer": "ipython3",
   "version": "3.10.9"
  }
 },
 "nbformat": 4,
 "nbformat_minor": 5
}
